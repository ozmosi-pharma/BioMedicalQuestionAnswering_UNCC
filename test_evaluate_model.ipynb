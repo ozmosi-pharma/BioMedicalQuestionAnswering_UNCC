{
 "cells": [
  {
   "cell_type": "code",
   "execution_count": 6,
   "metadata": {
    "collapsed": true
   },
   "outputs": [],
   "source": [
    "import json\n",
    "from pprint import pprint"
   ]
  },
  {
   "cell_type": "markdown",
   "metadata": {},
   "source": [
    "#### Test file and predictions file"
   ]
  },
  {
   "cell_type": "code",
   "execution_count": 77,
   "metadata": {
    "collapsed": true
   },
   "outputs": [],
   "source": [
    "testFile = \"BioASQ-test-4b-1.json\"\n",
    "predictionsFile = \"./=/predictions.json\""
   ]
  },
  {
   "cell_type": "code",
   "execution_count": 69,
   "metadata": {},
   "outputs": [],
   "source": [
    "#reading the test data in a dictionary\n",
    "with open(testFile) as f:\n",
    "    test_data = json.load(f)\n",
    "#pprint(data)\n",
    "test_data = test_data['data'][0]"
   ]
  },
  {
   "cell_type": "code",
   "execution_count": 91,
   "metadata": {
    "collapsed": true
   },
   "outputs": [],
   "source": [
    "#reading the predictions file in a dictionary\n",
    "with open(predictionsFile) as f:\n",
    "    predicted_data = json.load(f)\n",
    "#pprint(predicted_data)\n"
   ]
  },
  {
   "cell_type": "code",
   "execution_count": 70,
   "metadata": {},
   "outputs": [],
   "source": [
    "#type(test_data['paragraphs'])\n",
    "#len(test_data['paragraphs'])\n",
    "#type(test_data['paragraphs'][0])"
   ]
  },
  {
   "cell_type": "markdown",
   "metadata": {},
   "source": [
    "##### questions and their actual answer"
   ]
  },
  {
   "cell_type": "code",
   "execution_count": null,
   "metadata": {},
   "outputs": [],
   "source": [
    "print(\"Total number of Questions in test set {} are\".format(len(test_data['paragraphs'])))\n",
    "print(\" \")\n",
    "for count,question in enumerate(test_data['paragraphs']):\n",
    "    print(\"Question id: {}\".format(question[\"qas\"][0][\"id\"]))\n",
    "    print(\"Question: {}:\".format(question[\"qas\"][0][\"question\"]))\n",
    "    print(\"Predicted Answer: {}\".format(question[\"qas\"][0][\"answers\"][0][\"text\"]))\n",
    "    print(\" \")"
   ]
  },
  {
   "cell_type": "markdown",
   "metadata": {},
   "source": [
    "#### dictionary with question id as key and text( actual answer as value)"
   ]
  },
  {
   "cell_type": "code",
   "execution_count": 93,
   "metadata": {},
   "outputs": [],
   "source": [
    "actualAnswersDict = {}\n",
    "for question in test_data['paragraphs']:\n",
    "    #insert id as key and actual answer as value\n",
    "    #actual answer in lowercase\n",
    "    actualAnswersDict[question[\"qas\"][0][\"id\"]] = question[\"qas\"][0][\"answers\"][0][\"text\"].lower() \n",
    "  "
   ]
  },
  {
   "cell_type": "markdown",
   "metadata": {},
   "source": [
    "#### dictionary with question id as key and  predicted answer as value"
   ]
  },
  {
   "cell_type": "code",
   "execution_count": 89,
   "metadata": {},
   "outputs": [],
   "source": [
    "predictedAnswersDict = {}\n",
    "for i in predicted_data:\n",
    "    #insert question id as key and predicted answer in lowercase as value\n",
    "    predictedAnswersDict[i] = predicted_data[i].lower()\n",
    "#print(len(predictedAnswersDict))    "
   ]
  },
  {
   "cell_type": "markdown",
   "metadata": {},
   "source": [
    "#### accuracy of the model"
   ]
  },
  {
   "cell_type": "code",
   "execution_count": 97,
   "metadata": {},
   "outputs": [
    {
     "name": "stdout",
     "output_type": "stream",
     "text": [
      "actualAnswersDict and predictedAnswersDict not of same length \n"
     ]
    }
   ],
   "source": [
    "if(len(actualAnswersDict) != len(predictedAnswersDict)):\n",
    "    print(\"actualAnswersDict and predictedAnswersDict not of same length \")\n",
    "else:\n",
    "    totalQuestions = len(actualAnswersDict)\n",
    "    correctPredictions = 0\n",
    "    wrongPredictions = 0\n",
    "    for i in actualAnswersDict:\n",
    "        actualAnswer = actualAnswersDict[i]\n",
    "        predictedAnswer = predictedAnswersDict[i]\n",
    "        if(actualAnswer == predictedAnswer):\n",
    "            correctPredictions += 1\n",
    "        else:\n",
    "            wrongPredictions += 1\n",
    "    if(totalQuestions == (correctPredictions + wrongPredictions)):\n",
    "        accuracy = (correctPredictions / totalQuestions)\n",
    "        print(\"Accuracy on test data: {}\".format(accuracy))\n",
    "        print(\"Total number of Questions in test set: {}\".format(totalQuestions))\n",
    "        print(\"Total number of correct predictions: {}\".format(correctPredictions))\n",
    "    else:\n",
    "        print(\"totalQuestions is not equal to correctPredictions + wrongPredictions)\")"
   ]
  },
  {
   "cell_type": "code",
   "execution_count": null,
   "metadata": {
    "collapsed": true
   },
   "outputs": [],
   "source": []
  }
 ],
 "metadata": {
  "kernelspec": {
   "display_name": "Python 3",
   "language": "python",
   "name": "python3"
  },
  "language_info": {
   "codemirror_mode": {
    "name": "ipython",
    "version": 3
   },
   "file_extension": ".py",
   "mimetype": "text/x-python",
   "name": "python",
   "nbconvert_exporter": "python",
   "pygments_lexer": "ipython3",
   "version": "3.6.3"
  }
 },
 "nbformat": 4,
 "nbformat_minor": 2
}
