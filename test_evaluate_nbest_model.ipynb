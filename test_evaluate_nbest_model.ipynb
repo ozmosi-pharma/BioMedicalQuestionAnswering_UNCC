{
 "cells": [
  {
   "cell_type": "code",
   "execution_count": 66,
   "metadata": {
    "collapsed": true
   },
   "outputs": [],
   "source": [
    "import json\n",
    "from pprint import pprint"
   ]
  },
  {
   "cell_type": "code",
   "execution_count": 67,
   "metadata": {
    "collapsed": true
   },
   "outputs": [],
   "source": [
    "nbestFile = \"./=/nbest_predictions.json\" \n",
    "testFile = \"BioASQ-test-4b-1.json\""
   ]
  },
  {
   "cell_type": "code",
   "execution_count": 68,
   "metadata": {
    "collapsed": true
   },
   "outputs": [],
   "source": [
    "#reading the nbest data in a dictionary\n",
    "with open(nbestFile) as f:\n",
    "    nbestData = json.load(f)\n",
    "#pprint(nbestData)"
   ]
  },
  {
   "cell_type": "code",
   "execution_count": 69,
   "metadata": {
    "collapsed": true
   },
   "outputs": [],
   "source": [
    "#reading the test data in a dictionary\n",
    "with open(testFile) as f:\n",
    "    test_data = json.load(f)\n",
    "#pprint(test_data)\n",
    "test_data = test_data['data'][0]"
   ]
  },
  {
   "cell_type": "markdown",
   "metadata": {},
   "source": [
    "#### dictionary with question id as key  and all the answers combined as value  "
   ]
  },
  {
   "cell_type": "code",
   "execution_count": 70,
   "metadata": {},
   "outputs": [],
   "source": [
    "nbestDict = {}\n",
    "for id in nbestData: \n",
    "    combineAnswers = \" \"\n",
    "    for answers in data[id]:\n",
    "        #append answer(lowercase) \n",
    "        combineAnswers = combineAnswers + \"####\" +  answers[\"text\"].lower()\n",
    "    #insert into dictionary\n",
    "    nbestDict[id] = combineAnswers"
   ]
  },
  {
   "cell_type": "markdown",
   "metadata": {},
   "source": [
    "#### dictionary with question id as key and text( actual answer as value)"
   ]
  },
  {
   "cell_type": "code",
   "execution_count": 71,
   "metadata": {
    "collapsed": true
   },
   "outputs": [],
   "source": [
    "actualAnswersDict = {}\n",
    "for question in test_data['paragraphs']:\n",
    "    #insert id as key and actual answer as value\n",
    "    #actual answer in lowercase\n",
    "    actualAnswersDict[question[\"qas\"][0][\"id\"]] = question[\"qas\"][0][\"answers\"][0][\"text\"].lower() \n",
    "  "
   ]
  },
  {
   "cell_type": "markdown",
   "metadata": {},
   "source": [
    "#### accuracy of the model "
   ]
  },
  {
   "cell_type": "code",
   "execution_count": 72,
   "metadata": {},
   "outputs": [
    {
     "name": "stdout",
     "output_type": "stream",
     "text": [
      "actualAnswersDict and nbestDict not of same length \n"
     ]
    }
   ],
   "source": [
    "if(len(actualAnswersDict) != len(nbestDict)):\n",
    "    print(\"actualAnswersDict and nbestDict not of same length \")\n",
    "else:\n",
    "    totalQuestions = len(actualAnswersDict)\n",
    "    correctPredictions = 0\n",
    "    wrongPredictions = 0\n",
    "    for i in actualAnswersDict:\n",
    "        actualAnswer = actualAnswersDict[i]\n",
    "        predictedAnswer = nbestDict[i]\n",
    "        if(actualAnswer in predictedAnswer):\n",
    "            correctPredictions += 1\n",
    "        else:\n",
    "            wrongPredictions += 1\n",
    "    if(totalQuestions == (correctPredictions + wrongPredictions)):\n",
    "        accuracy = (correctPredictions / totalQuestions)\n",
    "        print(\"Accuracy on test data: {}\".format(accuracy))\n",
    "        print(\"Total number of Questions in test set: {}\".format(totalQuestions))\n",
    "        print(\"Total number of correct predictions: {}\".format(correctPredictions))\n",
    "    else:\n",
    "        print(\"totalQuestions is not equal to correctPredictions + wrongPredictions)\")"
   ]
  }
 ],
 "metadata": {
  "kernelspec": {
   "display_name": "Python 3",
   "language": "python",
   "name": "python3"
  },
  "language_info": {
   "codemirror_mode": {
    "name": "ipython",
    "version": 3
   },
   "file_extension": ".py",
   "mimetype": "text/x-python",
   "name": "python",
   "nbconvert_exporter": "python",
   "pygments_lexer": "ipython3",
   "version": "3.6.3"
  }
 },
 "nbformat": 4,
 "nbformat_minor": 2
}
