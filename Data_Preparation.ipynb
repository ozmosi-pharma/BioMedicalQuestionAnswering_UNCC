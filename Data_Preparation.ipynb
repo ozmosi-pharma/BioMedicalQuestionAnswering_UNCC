{
 "cells": [
  {
   "cell_type": "code",
   "execution_count": 4,
   "metadata": {},
   "outputs": [],
   "source": [
    "import json\n",
    "from pprint import pprint"
   ]
  },
  {
   "cell_type": "code",
   "execution_count": 91,
   "metadata": {
    "collapsed": true
   },
   "outputs": [],
   "source": [
    "#/Users/aditya/Documents/Spring_2019/BioAsq/7B/Batch1/BioASQ-task7bPhaseB-testset1.json\n",
    "#trainining7b.json\n",
    "with open('/Users/aditya/Documents/Spring_2019/BioAsq/7B/Batch5/BioASQ-task7bPhaseB-testset5.json') as f:\n",
    "    data = json.load(f)\n",
    "\n"
   ]
  },
  {
   "cell_type": "code",
   "execution_count": 92,
   "metadata": {
    "collapsed": true
   },
   "outputs": [],
   "source": [
    "\n",
    "paragraphs = []\n",
    "for quesion in data['questions']:\n",
    "    if(quesion['type'] == \"list\"):\n",
    "        answers = []\n",
    "        answerContent = {}\n",
    "        #text = quesion[\"exact_answer\"][0]\n",
    "        answer_start = 0\n",
    "        #answerContent[\"text\"] = text\n",
    "        answerContent[\"answer_start\"] = answer_start\n",
    "        answers.append(answerContent)\n",
    "        \n",
    "        qas = []\n",
    "        qasContent = {}\n",
    "        id = quesion[\"id\"]\n",
    "        question = quesion[\"body\"] \n",
    "        qasContent['question'] = question\n",
    "        qasContent['id'] = id\n",
    "        qasContent['answers'] = answers\n",
    "        qas.append(qasContent)\n",
    "        \n",
    "        # context uing urls\n",
    "        context = getContext(id) \n",
    "        #context = getConetextUsingSnippet(id) \n",
    "        # context uing snippets\n",
    "        #context = getSnippets(id)\n",
    "        paragraphContent = {}\n",
    "        paragraphContent[\"context\"] = context\n",
    "        paragraphContent[\"qas\"] = qas\n",
    "        \n",
    "        paragraphs.append(paragraphContent)\n"
   ]
  },
  {
   "cell_type": "code",
   "execution_count": 13,
   "metadata": {
    "collapsed": true
   },
   "outputs": [],
   "source": [
    "# ### testing\n",
    "# paragraphs = []\n",
    "# for quesion in data['questions']:\n",
    "#     if(quesion['type'] == \"factoid\" or quesion['type'] == \"list\"):        \n",
    "#         id = quesion[\"id\"]\n",
    "#         snippets = getSnippets(id)\n",
    "#         for snippet in snippets: \n",
    "#             answers = []\n",
    "#             answerContent = {}\n",
    "#             #text = quesion[\"exact_answer\"][0]\n",
    "#             answer_start = 0\n",
    "#             #answerContent[\"text\"] = text\n",
    "#             answerContent[\"answer_start\"] = answer_start\n",
    "#             answers.append(answerContent)\n",
    "\n",
    "#             qas = []\n",
    "#             qasContent = {}\n",
    "#             id = quesion[\"id\"]\n",
    "#             question = quesion[\"body\"] \n",
    "#             qasContent['question'] = question\n",
    "#             qasContent['id'] = id\n",
    "#             qasContent['answers'] = answers\n",
    "#             qas.append(qasContent)\n",
    "\n",
    "#             paragraphContent = {}\n",
    "#             paragraphContent[\"context\"] = snippet[\"text\"]\n",
    "#             paragraphContent[\"qas\"] = qas\n",
    "#             paragraphs.append(paragraphContent)\n"
   ]
  },
  {
   "cell_type": "code",
   "execution_count": 93,
   "metadata": {
    "collapsed": true
   },
   "outputs": [],
   "source": [
    "data = []\n",
    "dataContent = {}\n",
    "dataContent[\"title\"] = \"BioASQ6b\" \n",
    "dataContent[\"paragraphs\"] = paragraphs\n",
    "data.append(dataContent)\n",
    "\n",
    "finalDict = {}\n",
    "finalDict[\"version\"] = \"BioASQ6b\"\n",
    "finalDict[\"data\"] = data"
   ]
  },
  {
   "cell_type": "code",
   "execution_count": 94,
   "metadata": {
    "collapsed": true
   },
   "outputs": [],
   "source": [
    "\n",
    "#save the file in proper format\n",
    "with open('/Users/aditya/Documents/Spring_2019/BioAsq/7B/Batch5/list_urls.json', 'w') as fp:\n",
    "    #json.dump(finalDict, fp, sort_keys=True, indent=4)\n",
    "    json.dump(finalDict, fp, sort_keys=False, indent=4)\n"
   ]
  },
  {
   "cell_type": "markdown",
   "metadata": {},
   "source": [
    "### Generate Context "
   ]
  },
  {
   "cell_type": "code",
   "execution_count": 68,
   "metadata": {
    "collapsed": true
   },
   "outputs": [],
   "source": [
    "import requests\n",
    "import os\n",
    "import xml.etree.ElementTree as ET"
   ]
  },
  {
   "cell_type": "code",
   "execution_count": 86,
   "metadata": {
    "collapsed": true
   },
   "outputs": [],
   "source": [
    "def generateUrlList(id):\n",
    "    for quesion in data['questions']:\n",
    "        if(quesion['type'] == \"list\" and quesion[\"id\"] == id):\n",
    "            urList = []\n",
    "            for url in quesion[\"documents\"]:\n",
    "                urList.append(url)\n",
    "    return(urList)            "
   ]
  },
  {
   "cell_type": "code",
   "execution_count": 87,
   "metadata": {
    "collapsed": true
   },
   "outputs": [],
   "source": [
    "#url = \"http://www.ncbi.nlm.nih.gov/pubmed/18672707?report=xml&format=text\"\n",
    "def generateContentInXml(id):\n",
    "    urList = generateUrlList(id)\n",
    "    contentList = []\n",
    "    for url in urList:\n",
    "        url = url + \"?report=xml&format=text\"\n",
    "        response = requests.get(url)\n",
    "        s = response.text\n",
    "        s = s.replace(\"&lt;\",\"<\")\n",
    "        s = s.replace(\"&gt;\",\">\")\n",
    "        s = s.replace('<i>', '')\n",
    "        s = s.replace('</i>', '')\n",
    "        contentList.append(s)\n",
    "    return(contentList)   \n",
    "        "
   ]
  },
  {
   "cell_type": "code",
   "execution_count": 88,
   "metadata": {
    "collapsed": true
   },
   "outputs": [],
   "source": [
    "def generateContent(contentList):\n",
    "    finaltext = \"\"\n",
    "    for content in contentList:\n",
    "        root = ET.fromstring(content)\n",
    "        context = \"\"\n",
    "        for node in root.iter():\n",
    "            if(node.tag == \"AbstractText\"):    \n",
    "                if(node.text != None):\n",
    "                    context += node.text\n",
    "        finaltext += context\n",
    "    return(finaltext)    "
   ]
  },
  {
   "cell_type": "code",
   "execution_count": 89,
   "metadata": {
    "collapsed": true
   },
   "outputs": [],
   "source": [
    "def getContext(id):\n",
    "    contextXml = generateContentInXml(id)\n",
    "    #print(contextXml)\n",
    "    context = generateContent(contextXml)\n",
    "    return(context)"
   ]
  },
  {
   "cell_type": "code",
   "execution_count": 90,
   "metadata": {},
   "outputs": [
    {
     "ename": "TypeError",
     "evalue": "list indices must be integers or slices, not str",
     "output_type": "error",
     "traceback": [
      "\u001b[0;31m---------------------------------------------------------------------------\u001b[0m",
      "\u001b[0;31mTypeError\u001b[0m                                 Traceback (most recent call last)",
      "\u001b[0;32m<ipython-input-90-b939d6873def>\u001b[0m in \u001b[0;36m<module>\u001b[0;34m()\u001b[0m\n\u001b[1;32m      2\u001b[0m \u001b[0;31m#52bf1b0a03868f1b06000009\u001b[0m\u001b[0;34m\u001b[0m\u001b[0;34m\u001b[0m\u001b[0m\n\u001b[1;32m      3\u001b[0m \u001b[0;31m#52bf19c503868f1b06000001\u001b[0m\u001b[0;34m\u001b[0m\u001b[0;34m\u001b[0m\u001b[0m\n\u001b[0;32m----> 4\u001b[0;31m \u001b[0mprint\u001b[0m\u001b[0;34m(\u001b[0m\u001b[0mgetContext\u001b[0m\u001b[0;34m(\u001b[0m\u001b[0;34m\"5c890ad575a4a5d21900000d\"\u001b[0m\u001b[0;34m)\u001b[0m\u001b[0;34m)\u001b[0m\u001b[0;34m\u001b[0m\u001b[0m\n\u001b[0m",
      "\u001b[0;32m<ipython-input-89-0c92195f3b5e>\u001b[0m in \u001b[0;36mgetContext\u001b[0;34m(id)\u001b[0m\n\u001b[1;32m      1\u001b[0m \u001b[0;32mdef\u001b[0m \u001b[0mgetContext\u001b[0m\u001b[0;34m(\u001b[0m\u001b[0mid\u001b[0m\u001b[0;34m)\u001b[0m\u001b[0;34m:\u001b[0m\u001b[0;34m\u001b[0m\u001b[0m\n\u001b[0;32m----> 2\u001b[0;31m     \u001b[0mcontextXml\u001b[0m \u001b[0;34m=\u001b[0m \u001b[0mgenerateContentInXml\u001b[0m\u001b[0;34m(\u001b[0m\u001b[0mid\u001b[0m\u001b[0;34m)\u001b[0m\u001b[0;34m\u001b[0m\u001b[0m\n\u001b[0m\u001b[1;32m      3\u001b[0m     \u001b[0;31m#print(contextXml)\u001b[0m\u001b[0;34m\u001b[0m\u001b[0;34m\u001b[0m\u001b[0m\n\u001b[1;32m      4\u001b[0m     \u001b[0mcontext\u001b[0m \u001b[0;34m=\u001b[0m \u001b[0mgenerateContent\u001b[0m\u001b[0;34m(\u001b[0m\u001b[0mcontextXml\u001b[0m\u001b[0;34m)\u001b[0m\u001b[0;34m\u001b[0m\u001b[0m\n\u001b[1;32m      5\u001b[0m     \u001b[0;32mreturn\u001b[0m\u001b[0;34m(\u001b[0m\u001b[0mcontext\u001b[0m\u001b[0;34m)\u001b[0m\u001b[0;34m\u001b[0m\u001b[0m\n",
      "\u001b[0;32m<ipython-input-87-9bf8610627af>\u001b[0m in \u001b[0;36mgenerateContentInXml\u001b[0;34m(id)\u001b[0m\n\u001b[1;32m      1\u001b[0m \u001b[0;31m#url = \"http://www.ncbi.nlm.nih.gov/pubmed/18672707?report=xml&format=text\"\u001b[0m\u001b[0;34m\u001b[0m\u001b[0;34m\u001b[0m\u001b[0m\n\u001b[1;32m      2\u001b[0m \u001b[0;32mdef\u001b[0m \u001b[0mgenerateContentInXml\u001b[0m\u001b[0;34m(\u001b[0m\u001b[0mid\u001b[0m\u001b[0;34m)\u001b[0m\u001b[0;34m:\u001b[0m\u001b[0;34m\u001b[0m\u001b[0m\n\u001b[0;32m----> 3\u001b[0;31m     \u001b[0murList\u001b[0m \u001b[0;34m=\u001b[0m \u001b[0mgenerateUrlList\u001b[0m\u001b[0;34m(\u001b[0m\u001b[0mid\u001b[0m\u001b[0;34m)\u001b[0m\u001b[0;34m\u001b[0m\u001b[0m\n\u001b[0m\u001b[1;32m      4\u001b[0m     \u001b[0mcontentList\u001b[0m \u001b[0;34m=\u001b[0m \u001b[0;34m[\u001b[0m\u001b[0;34m]\u001b[0m\u001b[0;34m\u001b[0m\u001b[0m\n\u001b[1;32m      5\u001b[0m     \u001b[0;32mfor\u001b[0m \u001b[0murl\u001b[0m \u001b[0;32min\u001b[0m \u001b[0murList\u001b[0m\u001b[0;34m:\u001b[0m\u001b[0;34m\u001b[0m\u001b[0m\n",
      "\u001b[0;32m<ipython-input-86-eb259f85776b>\u001b[0m in \u001b[0;36mgenerateUrlList\u001b[0;34m(id)\u001b[0m\n\u001b[1;32m      1\u001b[0m \u001b[0;32mdef\u001b[0m \u001b[0mgenerateUrlList\u001b[0m\u001b[0;34m(\u001b[0m\u001b[0mid\u001b[0m\u001b[0;34m)\u001b[0m\u001b[0;34m:\u001b[0m\u001b[0;34m\u001b[0m\u001b[0m\n\u001b[0;32m----> 2\u001b[0;31m     \u001b[0;32mfor\u001b[0m \u001b[0mquesion\u001b[0m \u001b[0;32min\u001b[0m \u001b[0mdata\u001b[0m\u001b[0;34m[\u001b[0m\u001b[0;34m'questions'\u001b[0m\u001b[0;34m]\u001b[0m\u001b[0;34m:\u001b[0m\u001b[0;34m\u001b[0m\u001b[0m\n\u001b[0m\u001b[1;32m      3\u001b[0m         \u001b[0;32mif\u001b[0m\u001b[0;34m(\u001b[0m\u001b[0mquesion\u001b[0m\u001b[0;34m[\u001b[0m\u001b[0;34m'type'\u001b[0m\u001b[0;34m]\u001b[0m \u001b[0;34m==\u001b[0m \u001b[0;34m\"list\"\u001b[0m \u001b[0;32mand\u001b[0m \u001b[0mquesion\u001b[0m\u001b[0;34m[\u001b[0m\u001b[0;34m\"id\"\u001b[0m\u001b[0;34m]\u001b[0m \u001b[0;34m==\u001b[0m \u001b[0mid\u001b[0m\u001b[0;34m)\u001b[0m\u001b[0;34m:\u001b[0m\u001b[0;34m\u001b[0m\u001b[0m\n\u001b[1;32m      4\u001b[0m             \u001b[0murList\u001b[0m \u001b[0;34m=\u001b[0m \u001b[0;34m[\u001b[0m\u001b[0;34m]\u001b[0m\u001b[0;34m\u001b[0m\u001b[0m\n\u001b[1;32m      5\u001b[0m             \u001b[0;32mfor\u001b[0m \u001b[0murl\u001b[0m \u001b[0;32min\u001b[0m \u001b[0mquesion\u001b[0m\u001b[0;34m[\u001b[0m\u001b[0;34m\"documents\"\u001b[0m\u001b[0;34m]\u001b[0m\u001b[0;34m:\u001b[0m\u001b[0;34m\u001b[0m\u001b[0m\n",
      "\u001b[0;31mTypeError\u001b[0m: list indices must be integers or slices, not str"
     ]
    }
   ],
   "source": [
    "#56c1f01def6e394741000045\n",
    "#52bf1b0a03868f1b06000009\n",
    "#52bf19c503868f1b06000001\n",
    "print(getContext(\"5c890ad575a4a5d21900000d\"))"
   ]
  },
  {
   "cell_type": "markdown",
   "metadata": {},
   "source": [
    "### Context using snippet"
   ]
  },
  {
   "cell_type": "code",
   "execution_count": 53,
   "metadata": {
    "collapsed": true
   },
   "outputs": [],
   "source": [
    "def getConetextUsingSnippet(id):\n",
    "    for quesion in data['questions']:\n",
    "        if(quesion['type'] == \"list\" and quesion[\"id\"] == id):\n",
    "            context = \"\"\n",
    "            for snippet in quesion[\"snippets\"]:\n",
    "                #print(snippet[\"text\"])\n",
    "                context += snippet[\"text\"]  \n",
    "            return(context)"
   ]
  },
  {
   "cell_type": "code",
   "execution_count": 22,
   "metadata": {
    "collapsed": true
   },
   "outputs": [],
   "source": [
    "def getSnippets(id):\n",
    "    for quesion in data['questions']:\n",
    "        if(quesion['type'] == \"factoid\" and quesion[\"id\"] == id):  \n",
    "            return(quesion[\"snippets\"])"
   ]
  },
  {
   "cell_type": "code",
   "execution_count": 16,
   "metadata": {
    "collapsed": true
   },
   "outputs": [],
   "source": [
    "\n",
    "paragraphs = []\n",
    "for quesion in data['questions']:\n",
    "    if(quesion['type'] == \"factoid\"):        \n",
    "        id = quesion[\"id\"]\n",
    "        snippets = getSnippets(id)\n",
    "        for snippet in snippets: \n",
    "            answers = []\n",
    "            answerContent = {}\n",
    "            #text = quesion[\"exact_answer\"][0]\n",
    "            answer_start = 0\n",
    "            #answerContent[\"text\"] = text\n",
    "            answerContent[\"answer_start\"] = answer_start\n",
    "            answers.append(answerContent)\n",
    "\n",
    "            qas = []\n",
    "            qasContent = {}\n",
    "            id = quesion[\"id\"]\n",
    "            question = quesion[\"body\"] \n",
    "            qasContent['question'] = question\n",
    "            qasContent['id'] = id\n",
    "            qasContent['answers'] = answers\n",
    "            qas.append(qasContent)\n",
    "\n",
    "            paragraphContent = {}\n",
    "            paragraphContent[\"context\"] = snippet\n",
    "            paragraphContent[\"qas\"] = qas\n",
    "            paragraphs.append(paragraphContent)\n"
   ]
  },
  {
   "cell_type": "markdown",
   "metadata": {},
   "source": [
    "### convert the answers in BIOASQ format"
   ]
  },
  {
   "cell_type": "code",
   "execution_count": 95,
   "metadata": {
    "collapsed": true
   },
   "outputs": [],
   "source": [
    "with open('/Users/aditya/Documents/Spring_2019/BioAsq/7B/Batch5/BioASQ-task7bPhaseB-testset5.json') as f:\n",
    "    data_upload = json.load(f)\n"
   ]
  },
  {
   "cell_type": "code",
   "execution_count": 96,
   "metadata": {
    "collapsed": true
   },
   "outputs": [],
   "source": [
    "# #dict1[\"exact_answer\"] = [\"Dummy\"]\n",
    "# arr = []\n",
    "# for question in data_upload['questions']:\n",
    "#     if(question[\"type\"] != \"factoid\" and question[\"type\"] != \"list\"):\n",
    "#         dict1 = {}\n",
    "#         if(question[\"type\"] == \"yesno\"):\n",
    "#             dict1[\"exact_answer\"] = \"yes\"\n",
    "#         else:\n",
    "#             dict1[\"exact_answer\"] = [\"Dummy\"]\n",
    "#         dict1[\"ideal_answer\"] = [\"Dummy\"]\n",
    "#         dict1[\"type\"] = question[\"type\"] \n",
    "#         dict1[\"id\"] = question[\"id\"]\n",
    "#         arr.append(json.dumps(dict1))\n",
    "#dict1[\"exact_answer\"] = [\"Dummy\"]\n",
    "arr = []\n",
    "for question in data_upload['questions']:\n",
    "    if(question[\"type\"] != \"factoid\" and question[\"type\"] != \"list\"):\n",
    "        dict1 = {}\n",
    "        if(question[\"type\"] == \"yesno\"):\n",
    "            dict1[\"exact_answer\"] = \"yes\"\n",
    "        else:\n",
    "            dict1[\"exact_answer\"] = \"Dummy\"\n",
    "        dict1[\"ideal_answer\"] = \"Dummy\"\n",
    "        dict1[\"type\"] = question[\"type\"] \n",
    "        dict1[\"id\"] = question[\"id\"]\n",
    "        arr.append(json.dumps(dict1))\n",
    "\n"
   ]
  },
  {
   "cell_type": "code",
   "execution_count": 97,
   "metadata": {},
   "outputs": [
    {
     "name": "stdout",
     "output_type": "stream",
     "text": [
      "{\"exact_answer\": \"Dummy\", \"ideal_answer\": \"Dummy\", \"type\": \"summary\", \"id\": \"5ca60a77ecadf2e73f00004d\"},\n",
      "{\"exact_answer\": \"Dummy\", \"ideal_answer\": \"Dummy\", \"type\": \"summary\", \"id\": \"5c88b8a275a4a5d21900000b\"},\n",
      "{\"exact_answer\": \"yes\", \"ideal_answer\": \"Dummy\", \"type\": \"yesno\", \"id\": \"5c97a08becadf2e73f000029\"},\n",
      "{\"exact_answer\": \"yes\", \"ideal_answer\": \"Dummy\", \"type\": \"yesno\", \"id\": \"5c8ab614d558e5f23200000d\"},\n",
      "{\"exact_answer\": \"yes\", \"ideal_answer\": \"Dummy\", \"type\": \"yesno\", \"id\": \"5ca61176ecadf2e73f00004e\"},\n",
      "{\"exact_answer\": \"yes\", \"ideal_answer\": \"Dummy\", \"type\": \"yesno\", \"id\": \"5c8908a475a4a5d21900000c\"},\n",
      "{\"exact_answer\": \"yes\", \"ideal_answer\": \"Dummy\", \"type\": \"yesno\", \"id\": \"5c98ac7fecadf2e73f00002b\"},\n",
      "{\"exact_answer\": \"yes\", \"ideal_answer\": \"Dummy\", \"type\": \"yesno\", \"id\": \"5c890c3375a4a5d21900000e\"},\n",
      "{\"exact_answer\": \"yes\", \"ideal_answer\": \"Dummy\", \"type\": \"yesno\", \"id\": \"5ca0c81eecadf2e73f000047\"},\n",
      "{\"exact_answer\": \"Dummy\", \"ideal_answer\": \"Dummy\", \"type\": \"summary\", \"id\": \"5ca9f5e4ecadf2e73f000052\"},\n",
      "{\"exact_answer\": \"Dummy\", \"ideal_answer\": \"Dummy\", \"type\": \"summary\", \"id\": \"5c895e5ef9c2ba6b28000002\"},\n",
      "{\"exact_answer\": \"yes\", \"ideal_answer\": \"Dummy\", \"type\": \"yesno\", \"id\": \"5caa0806ecadf2e73f000057\"},\n",
      "{\"exact_answer\": \"Dummy\", \"ideal_answer\": \"Dummy\", \"type\": \"summary\", \"id\": \"5c960afaecadf2e73f00001e\"},\n",
      "{\"exact_answer\": \"yes\", \"ideal_answer\": \"Dummy\", \"type\": \"yesno\", \"id\": \"5c8fea130101eac87000000d\"},\n",
      "{\"exact_answer\": \"yes\", \"ideal_answer\": \"Dummy\", \"type\": \"yesno\", \"id\": \"5c960d88ecadf2e73f00001f\"},\n",
      "{\"exact_answer\": \"yes\", \"ideal_answer\": \"Dummy\", \"type\": \"yesno\", \"id\": \"5c9e6ab9ecadf2e73f000035\"},\n",
      "{\"exact_answer\": \"yes\", \"ideal_answer\": \"Dummy\", \"type\": \"yesno\", \"id\": \"5c915e51ecadf2e73f00000c\"},\n",
      "{\"exact_answer\": \"yes\", \"ideal_answer\": \"Dummy\", \"type\": \"yesno\", \"id\": \"5c9e738decadf2e73f000037\"},\n",
      "{\"exact_answer\": \"yes\", \"ideal_answer\": \"Dummy\", \"type\": \"yesno\", \"id\": \"5c9160bcecadf2e73f00000d\"},\n",
      "{\"exact_answer\": \"yes\", \"ideal_answer\": \"Dummy\", \"type\": \"yesno\", \"id\": \"5c9e766becadf2e73f000038\"},\n",
      "{\"exact_answer\": \"yes\", \"ideal_answer\": \"Dummy\", \"type\": \"yesno\", \"id\": \"5c92159becadf2e73f000012\"},\n",
      "{\"exact_answer\": \"Dummy\", \"ideal_answer\": \"Dummy\", \"type\": \"summary\", \"id\": \"5c978924ecadf2e73f000023\"},\n",
      "{\"exact_answer\": \"yes\", \"ideal_answer\": \"Dummy\", \"type\": \"yesno\", \"id\": \"5c9f0dabecadf2e73f00003b\"},\n",
      "{\"exact_answer\": \"Dummy\", \"ideal_answer\": \"Dummy\", \"type\": \"summary\", \"id\": \"5c978a2aecadf2e73f000025\"},\n",
      "{\"exact_answer\": \"yes\", \"ideal_answer\": \"Dummy\", \"type\": \"yesno\", \"id\": \"5c9f1b0cecadf2e73f00003c\"},\n",
      "{\"exact_answer\": \"yes\", \"ideal_answer\": \"Dummy\", \"type\": \"yesno\", \"id\": \"5c891d5075a4a5d219000011\"},\n",
      "{\"exact_answer\": \"yes\", \"ideal_answer\": \"Dummy\", \"type\": \"yesno\", \"id\": \"5ca0848aecadf2e73f000044\"},\n",
      "{\"exact_answer\": \"yes\", \"ideal_answer\": \"Dummy\", \"type\": \"yesno\", \"id\": \"5c891e5575a4a5d219000012\"},\n",
      "{\"exact_answer\": \"Dummy\", \"ideal_answer\": \"Dummy\", \"type\": \"summary\", \"id\": \"5c979383ecadf2e73f000027\"},\n",
      "{\"exact_answer\": \"yes\", \"ideal_answer\": \"Dummy\", \"type\": \"yesno\", \"id\": \"5ca0fa96ecadf2e73f000048\"},\n",
      "{\"exact_answer\": \"yes\", \"ideal_answer\": \"Dummy\", \"type\": \"yesno\", \"id\": \"5c895cf0f9c2ba6b28000001\"},\n",
      "{\"exact_answer\": \"yes\", \"ideal_answer\": \"Dummy\", \"type\": \"yesno\", \"id\": \"5ca0fdb0ecadf2e73f000049\"},\n",
      "{\"exact_answer\": \"Dummy\", \"ideal_answer\": \"Dummy\", \"type\": \"summary\", \"id\": \"5c8960a6f9c2ba6b28000003\"},\n",
      "{\"exact_answer\": \"yes\", \"ideal_answer\": \"Dummy\", \"type\": \"yesno\", \"id\": \"5ca10fefecadf2e73f00004a\"},\n",
      "{\"exact_answer\": \"Dummy\", \"ideal_answer\": \"Dummy\", \"type\": \"summary\", \"id\": \"5c896ce0d558e5f232000002\"},\n",
      "{\"exact_answer\": \"yes\", \"ideal_answer\": \"Dummy\", \"type\": \"yesno\", \"id\": \"5c9f7bb6ecadf2e73f00003e\"},\n",
      "{\"exact_answer\": \"Dummy\", \"ideal_answer\": \"Dummy\", \"type\": \"summary\", \"id\": \"5c9fb2aaecadf2e73f00003f\"},\n",
      "{\"exact_answer\": \"Dummy\", \"ideal_answer\": \"Dummy\", \"type\": \"summary\", \"id\": \"5c8a8f56d558e5f23200000b\"},\n",
      "{\"exact_answer\": \"yes\", \"ideal_answer\": \"Dummy\", \"type\": \"yesno\", \"id\": \"5c8fe71b0101eac87000000b\"},\n",
      "{\"exact_answer\": \"Dummy\", \"ideal_answer\": \"Dummy\", \"type\": \"summary\", \"id\": \"5c98fcf0ecadf2e73f00002c\"},\n",
      "{\"exact_answer\": \"yes\", \"ideal_answer\": \"Dummy\", \"type\": \"yesno\", \"id\": \"5c9906dcecadf2e73f00002f\"},\n",
      "{\"exact_answer\": \"yes\", \"ideal_answer\": \"Dummy\", \"type\": \"yesno\", \"id\": \"5c900779ecadf2e73f000001\"},\n",
      "{\"exact_answer\": \"Dummy\", \"ideal_answer\": \"Dummy\", \"type\": \"summary\", \"id\": \"5ca9f932ecadf2e73f000054\"},\n",
      "{\"exact_answer\": \"Dummy\", \"ideal_answer\": \"Dummy\", \"type\": \"summary\", \"id\": \"5ca3bfd7ecadf2e73f00004b\"},\n",
      "{\"exact_answer\": \"yes\", \"ideal_answer\": \"Dummy\", \"type\": \"yesno\", \"id\": \"5ca5127eecadf2e73f00004c\"},\n",
      "{\"exact_answer\": \"yes\", \"ideal_answer\": \"Dummy\", \"type\": \"yesno\", \"id\": \"5c9162b5ecadf2e73f00000e\"},\n",
      "{\"exact_answer\": \"Dummy\", \"ideal_answer\": \"Dummy\", \"type\": \"summary\", \"id\": \"5c922bc3ecadf2e73f000013\"},\n",
      "{\"exact_answer\": \"yes\", \"ideal_answer\": \"Dummy\", \"type\": \"yesno\", \"id\": \"5cb37f76ecadf2e73f00005c\"},\n",
      "{\"exact_answer\": \"yes\", \"ideal_answer\": \"Dummy\", \"type\": \"yesno\", \"id\": \"5cb380b8ecadf2e73f00005d\"},\n",
      "{\"exact_answer\": \"Dummy\", \"ideal_answer\": \"Dummy\", \"type\": \"summary\", \"id\": \"5c521c8c7e3cb0e231000007\"},\n",
      "{\"exact_answer\": \"yes\", \"ideal_answer\": \"Dummy\", \"type\": \"yesno\", \"id\": \"5cb38a56ecadf2e73f00005e\"},\n",
      "{\"exact_answer\": \"Dummy\", \"ideal_answer\": \"Dummy\", \"type\": \"summary\", \"id\": \"5c9d170cecadf2e73f000032\"},\n",
      "{\"exact_answer\": \"yes\", \"ideal_answer\": \"Dummy\", \"type\": \"yesno\", \"id\": \"5cb3a2dd99d1e53537000001\"},\n"
     ]
    }
   ],
   "source": [
    "count = 0\n",
    "for i in arr:\n",
    "        print(i+\",\")\n",
    "        count += 1        "
   ]
  },
  {
   "cell_type": "code",
   "execution_count": 98,
   "metadata": {},
   "outputs": [
    {
     "data": {
      "text/plain": [
       "53"
      ]
     },
     "execution_count": 98,
     "metadata": {},
     "output_type": "execute_result"
    }
   ],
   "source": [
    "count"
   ]
  },
  {
   "cell_type": "code",
   "execution_count": 99,
   "metadata": {},
   "outputs": [
    {
     "data": {
      "text/plain": [
       "47"
      ]
     },
     "execution_count": 99,
     "metadata": {},
     "output_type": "execute_result"
    }
   ],
   "source": [
    "100 - 53"
   ]
  },
  {
   "cell_type": "code",
   "execution_count": 100,
   "metadata": {},
   "outputs": [
    {
     "data": {
      "text/plain": [
       "47"
      ]
     },
     "execution_count": 100,
     "metadata": {},
     "output_type": "execute_result"
    }
   ],
   "source": [
    "35 + 12"
   ]
  },
  {
   "cell_type": "code",
   "execution_count": null,
   "metadata": {
    "collapsed": true
   },
   "outputs": [],
   "source": []
  }
 ],
 "metadata": {
  "kernelspec": {
   "display_name": "Python 3",
   "language": "python",
   "name": "python3"
  },
  "language_info": {
   "codemirror_mode": {
    "name": "ipython",
    "version": 3
   },
   "file_extension": ".py",
   "mimetype": "text/x-python",
   "name": "python",
   "nbconvert_exporter": "python",
   "pygments_lexer": "ipython3",
   "version": "3.6.3"
  }
 },
 "nbformat": 4,
 "nbformat_minor": 2
}
