{
 "cells": [
  {
   "cell_type": "code",
   "execution_count": 2,
   "metadata": {
    "collapsed": true
   },
   "outputs": [],
   "source": [
    "import json\n",
    "from pprint import pprint"
   ]
  },
  {
   "cell_type": "code",
   "execution_count": 3,
   "metadata": {
    "collapsed": true
   },
   "outputs": [],
   "source": [
    "with open('/Users/aditya/Documents/Spring_2019/BioAsq/7B/Batch5/BioASQ-task7bPhaseB-testset5.json') as f:\n",
    "    data = json.load(f)\n",
    "\n"
   ]
  },
  {
   "cell_type": "code",
   "execution_count": 6,
   "metadata": {
    "collapsed": true
   },
   "outputs": [],
   "source": [
    "paragraphs = []\n",
    "questions_list = []\n",
    "for quesion in data['questions']:\n",
    "    questiondict = {}\n",
    "    if(quesion['type'] == \"yesno\"):\n",
    "        id = quesion[\"id\"]\n",
    "        body = quesion[\"body\"] \n",
    "        snippets = getConetextUsingSnippet(id) \n",
    "        questiondict['id'] = id\n",
    "        questiondict['body'] = body\n",
    "        questiondict['snippets'] = snippets\n",
    "        questions_list.append(questiondict)\n",
    "        "
   ]
  },
  {
   "cell_type": "code",
   "execution_count": 5,
   "metadata": {
    "collapsed": true
   },
   "outputs": [],
   "source": [
    "def getConetextUsingSnippet(id):\n",
    "    for quesion in data['questions']:\n",
    "        if(quesion['type'] == \"yesno\" and quesion[\"id\"] == id):\n",
    "            snippet_list = []\n",
    "            for snippet in quesion[\"snippets\"]:\n",
    "                snippet_list.append( snippet[\"text\"])  \n",
    "            return(snippet_list)"
   ]
  },
  {
   "cell_type": "code",
   "execution_count": 7,
   "metadata": {},
   "outputs": [
    {
     "data": {
      "text/plain": [
       "{'body': 'Is it possible to analyze exosomes with FACS?',\n",
       " 'id': '5c9e6ab9ecadf2e73f000035',\n",
       " 'snippets': ['whose presence was validated by a bead-exosome FACS assay.',\n",
       "  'We analyzed exosomes from mouse (C57Bl/6) and breast, lung, and ovarian cancer patient samples and cultured cancer cells with different approaches, including nanoparticle tracking analysis, biolayer interferometry, FACS, and electron microscopy.',\n",
       "  'we applied a technique to generate native fluorescent exosomes characterized by vesicles integrity, size, density, markers expression, and quantifiable by direct FACS analysis',\n",
       "  'we used a novel strategy for generating metabolically-labeled fluorescent exosomes that can be counted by flow cytometry assay (FACS) and characterized.']}"
      ]
     },
     "execution_count": 7,
     "metadata": {},
     "output_type": "execute_result"
    }
   ],
   "source": [
    "questions_list[10]"
   ]
  },
  {
   "cell_type": "code",
   "execution_count": 8,
   "metadata": {
    "collapsed": true
   },
   "outputs": [],
   "source": [
    "with open('/Users/aditya/Documents/Spring_2019/BioAsq/7B/Batch5/yesno.json', 'w') as fp:\n",
    "    json.dump(questions_list, fp, sort_keys=False, indent=4)\n"
   ]
  },
  {
   "cell_type": "code",
   "execution_count": 11,
   "metadata": {},
   "outputs": [
    {
     "name": "stdout",
     "output_type": "stream",
     "text": [
      "5c97a08becadf2e73f000029\n",
      "false\n",
      "5c8ab614d558e5f23200000d\n",
      "false\n",
      "5ca61176ecadf2e73f00004e\n",
      "false\n",
      "5c8908a475a4a5d21900000c\n",
      "false\n",
      "5c98ac7fecadf2e73f00002b\n",
      "false\n",
      "5c890c3375a4a5d21900000e\n",
      "false\n",
      "5ca0c81eecadf2e73f000047\n",
      "false\n",
      "5caa0806ecadf2e73f000057\n",
      "false\n",
      "5c8fea130101eac87000000d\n",
      "false\n",
      "5c960d88ecadf2e73f00001f\n",
      "false\n",
      "5c9e6ab9ecadf2e73f000035\n",
      "false\n",
      "5c915e51ecadf2e73f00000c\n",
      "false\n",
      "5c9e738decadf2e73f000037\n",
      "false\n",
      "5c9160bcecadf2e73f00000d\n",
      "false\n",
      "5c9e766becadf2e73f000038\n",
      "false\n",
      "5c92159becadf2e73f000012\n",
      "false\n",
      "5c9f0dabecadf2e73f00003b\n",
      "false\n",
      "5c9f1b0cecadf2e73f00003c\n",
      "false\n",
      "5c891d5075a4a5d219000011\n",
      "false\n",
      "5ca0848aecadf2e73f000044\n",
      "false\n",
      "5c891e5575a4a5d219000012\n",
      "false\n",
      "5ca0fa96ecadf2e73f000048\n",
      "false\n",
      "5c895cf0f9c2ba6b28000001\n",
      "false\n",
      "5ca0fdb0ecadf2e73f000049\n",
      "false\n",
      "5ca10fefecadf2e73f00004a\n",
      "false\n",
      "5c9f7bb6ecadf2e73f00003e\n",
      "false\n",
      "5c8fe71b0101eac87000000b\n",
      "false\n",
      "5c9906dcecadf2e73f00002f\n",
      "false\n",
      "5c900779ecadf2e73f000001\n",
      "false\n",
      "5ca5127eecadf2e73f00004c\n",
      "false\n",
      "5c9162b5ecadf2e73f00000e\n",
      "false\n",
      "5cb37f76ecadf2e73f00005c\n",
      "false\n",
      "5cb380b8ecadf2e73f00005d\n",
      "false\n",
      "5cb38a56ecadf2e73f00005e\n",
      "false\n",
      "5cb3a2dd99d1e53537000001\n",
      "false\n"
     ]
    }
   ],
   "source": [
    "for question in questions_list:\n",
    "    body = question[\"body\"]\n",
    "    tcount = 0\n",
    "    falsecount = 0\n",
    "    for snippet in question[\"snippets\"]:\n",
    "        if(entailment(body,snippet) == True):\n",
    "            tcount += 1\n",
    "        else:\n",
    "            falsecount += 1        \n",
    "    print(question[\"id\"])\n",
    "    print(\"true\") if tcount > falsecount else print(\"false\")\n",
    "    "
   ]
  },
  {
   "cell_type": "code",
   "execution_count": 10,
   "metadata": {
    "collapsed": true
   },
   "outputs": [],
   "source": [
    "def entailment(s1,s2):\n",
    "  return False  "
   ]
  },
  {
   "cell_type": "markdown",
   "metadata": {},
   "source": [
    "### logic second for yes and no"
   ]
  },
  {
   "cell_type": "code",
   "execution_count": 50,
   "metadata": {
    "collapsed": true
   },
   "outputs": [],
   "source": [
    "s = \"Primary ovarian insufficiency (POI) is a distressing cause of infertility in young women. POI is heterogeneous with only a few causative genes having been discovered so far. Our objective was to determine the genetic cause of POI in a consanguineous Lebanese family with two affected sisters presenting with primary amenorrhoea and an absence of any pubertal development. Multipoint parametric linkage analysis was performed. Whole-exome sequencing was done on the proband. Linkage analysis identified a locus on chromosome 7 where exome sequencing successfully identified a homozygous two base pair duplication (c.1947_48dupCT), leading to a truncated protein p.(Y650Sfs*22) in the STAG3 gene, confirming it as the cause of POI in this family. Exome sequencing combined with linkage analyses offers a powerful tool to efficiently find novel genetic causes of rare, heterogeneous disorders, even in small single families. This is only the second report of a STAG3 variant; the first STAG3 variant was recently described in a phenotypically similar family with extreme POI. Identification of an additional family highlights the importance of STAG3 in POI pathogenesis and suggests it should be evaluated in families affected with POI.\""
   ]
  },
  {
   "cell_type": "code",
   "execution_count": 55,
   "metadata": {},
   "outputs": [
    {
     "name": "stdout",
     "output_type": "stream",
     "text": [
      "Primary ovarian insufficiency (POI) is a distressing cause of infertility in young women\n",
      "-------\n",
      " POI is heterogeneous with only a few causative genes having been discovered so far\n",
      "-------\n",
      " Our objective was to determine the genetic cause of POI in a consanguineous Lebanese family with two affected sisters presenting with primary amenorrhoea and an absence of any pubertal development\n",
      "-------\n",
      " Multipoint parametric linkage analysis was performed\n",
      "-------\n",
      " Whole-exome sequencing was done on the proband\n",
      "-------\n",
      " Linkage analysis identified a locus on chromosome 7 where exome sequencing successfully identified a homozygous two base pair duplication (c\n",
      "-------\n",
      "1947_48dupCT), leading to a truncated protein p\n",
      "-------\n",
      "(Y650Sfs*22) in the STAG3 gene, confirming it as the cause of POI in this family\n",
      "-------\n",
      " Exome sequencing combined with linkage analyses offers a powerful tool to efficiently find novel genetic causes of rare, heterogeneous disorders, even in small single families\n",
      "-------\n",
      " This is only the second report of a STAG3 variant; the first STAG3 variant was recently described in a phenotypically similar family with extreme POI\n",
      "-------\n",
      " Identification of an additional family highlights the importance of STAG3 in POI pathogenesis and suggests it should be evaluated in families affected with POI\n",
      "-------\n",
      "\n",
      "-------\n"
     ]
    }
   ],
   "source": [
    "#str.split(separator, maxsplit)\n",
    "len(s.split('.'))\n",
    "for i in s.split('.'):\n",
    "    print(i)\n",
    "    print(\"-------\")\n"
   ]
  },
  {
   "cell_type": "code",
   "execution_count": 14,
   "metadata": {
    "collapsed": true
   },
   "outputs": [],
   "source": [
    "questions_list = []\n",
    "for quesion in data['questions']:\n",
    "    questiondict = {}\n",
    "    if(quesion['type'] == \"yesno\"):\n",
    "        id = quesion[\"id\"]\n",
    "        body = quesion[\"body\"] \n",
    "        snippets = getConetextUsingSnippet2(id) \n",
    "        questiondict['id'] = id\n",
    "        questiondict['body'] = body\n",
    "        questiondict['snippets'] = snippets\n",
    "        questions_list.append(questiondict)\n",
    "        "
   ]
  },
  {
   "cell_type": "code",
   "execution_count": 13,
   "metadata": {
    "collapsed": true
   },
   "outputs": [],
   "source": [
    "def getConetextUsingSnippet2(id):\n",
    "    for quesion in data['questions']:\n",
    "        if(quesion['type'] == \"yesno\" and quesion[\"id\"] == id):\n",
    "            snippet_list = []\n",
    "            for snippet in quesion[\"snippets\"]:\n",
    "                #snippet_list.append( snippet[\"text\"].split('.'))\n",
    "                for s in snippet[\"text\"].split('.'):\n",
    "                    if(s != \"\" and s != \" \"):\n",
    "                        snippet_list.append(s)\n",
    "            return(snippet_list)"
   ]
  },
  {
   "cell_type": "code",
   "execution_count": 15,
   "metadata": {
    "collapsed": true
   },
   "outputs": [],
   "source": [
    "with open('/Users/aditya/Documents/Spring_2019/BioAsq/7B/Batch5/yesno_logic2.json', 'w') as fp:\n",
    "    json.dump(questions_list, fp, sort_keys=False, indent=4)\n"
   ]
  },
  {
   "cell_type": "markdown",
   "metadata": {
    "collapsed": true
   },
   "source": [
    "### Predictions for Yes/NO"
   ]
  },
  {
   "cell_type": "code",
   "execution_count": 1,
   "metadata": {},
   "outputs": [
    {
     "ename": "ModuleNotFoundError",
     "evalue": "No module named 'allennlp'",
     "output_type": "error",
     "traceback": [
      "\u001b[0;31m---------------------------------------------------------------------------\u001b[0m",
      "\u001b[0;31mModuleNotFoundError\u001b[0m                       Traceback (most recent call last)",
      "\u001b[0;32m<ipython-input-1-b9d4121d6173>\u001b[0m in \u001b[0;36m<module>\u001b[0;34m()\u001b[0m\n\u001b[0;32m----> 1\u001b[0;31m \u001b[0;32mfrom\u001b[0m \u001b[0mallennlp\u001b[0m\u001b[0;34m.\u001b[0m\u001b[0mservice\u001b[0m\u001b[0;34m.\u001b[0m\u001b[0mpredictors\u001b[0m\u001b[0;34m.\u001b[0m\u001b[0mpredictor\u001b[0m \u001b[0;32mimport\u001b[0m \u001b[0mPredictor\u001b[0m\u001b[0;34m\u001b[0m\u001b[0m\n\u001b[0m\u001b[1;32m      2\u001b[0m \u001b[0mpredictor1\u001b[0m \u001b[0;34m=\u001b[0m \u001b[0mPredictor\u001b[0m\u001b[0;34m.\u001b[0m\u001b[0mfrom_path\u001b[0m\u001b[0;34m(\u001b[0m\u001b[0;34m\"https://s3-us-west-2.amazonaws.com/allennlp/models/srl-model-2018.05.25.tar.gz\"\u001b[0m\u001b[0;34m)\u001b[0m\u001b[0;34m\u001b[0m\u001b[0m\n\u001b[1;32m      3\u001b[0m \u001b[0;32mfrom\u001b[0m \u001b[0mallennlp\u001b[0m\u001b[0;34m.\u001b[0m\u001b[0mpredictors\u001b[0m\u001b[0;34m.\u001b[0m\u001b[0mpredictor\u001b[0m \u001b[0;32mimport\u001b[0m \u001b[0mPredictor\u001b[0m\u001b[0;34m\u001b[0m\u001b[0m\n\u001b[1;32m      4\u001b[0m \u001b[0mpredictor2\u001b[0m \u001b[0;34m=\u001b[0m \u001b[0mPredictor\u001b[0m\u001b[0;34m.\u001b[0m\u001b[0mfrom_path\u001b[0m\u001b[0;34m(\u001b[0m\u001b[0;34m\"https://s3-us-west-2.amazonaws.com/allennlp/models/decomposable-attention-elmo-2018.02.19.tar.gz\"\u001b[0m\u001b[0;34m)\u001b[0m\u001b[0;34m\u001b[0m\u001b[0m\n",
      "\u001b[0;31mModuleNotFoundError\u001b[0m: No module named 'allennlp'"
     ]
    }
   ],
   "source": [
    "from allennlp.service.predictors.predictor import Predictor\n",
    "predictor1 = Predictor.from_path(\"https://s3-us-west-2.amazonaws.com/allennlp/models/srl-model-2018.05.25.tar.gz\")\n",
    "from allennlp.predictors.predictor import Predictor\n",
    "predictor2 = Predictor.from_path(\"https://s3-us-west-2.amazonaws.com/allennlp/models/decomposable-attention-elmo-2018.02.19.tar.gz\")\n"
   ]
  },
  {
   "cell_type": "code",
   "execution_count": 2,
   "metadata": {
    "collapsed": true
   },
   "outputs": [],
   "source": [
    "def entailment(s1,s2):\n",
    "  dict_a =predictor2.predict(hypothesis = s1,premise= s2)\n",
    "  return False if (dict_a[\"label_probs\"][1]) >= 0.5 else True \n"
   ]
  },
  {
   "cell_type": "code",
   "execution_count": null,
   "metadata": {
    "collapsed": true
   },
   "outputs": [],
   "source": [
    "#set filename of file converted into proper format here\n",
    "filename = \n",
    "with open(filename) as f:\n",
    "    data = json.load(f)\n",
    "\n",
    "\n",
    "    i = 1\n",
    "    for question in data:\n",
    "        print(question[\"id\"],\"  \",i)\n",
    "        i += 1\n",
    "        body = question[\"body\"]\n",
    "        tcount = 0\n",
    "        falsecount = 0\n",
    "        for snippet in question[\"snippets\"]:\n",
    "            if(entailment(body,snippet) == False):\n",
    "                print(question[\"id\"],\" \" ,\"False\")\n",
    "                break\n",
    "            \n",
    "\n"
   ]
  }
 ],
 "metadata": {
  "kernelspec": {
   "display_name": "Python 3",
   "language": "python",
   "name": "python3"
  },
  "language_info": {
   "codemirror_mode": {
    "name": "ipython",
    "version": 3
   },
   "file_extension": ".py",
   "mimetype": "text/x-python",
   "name": "python",
   "nbconvert_exporter": "python",
   "pygments_lexer": "ipython3",
   "version": "3.6.3"
  }
 },
 "nbformat": 4,
 "nbformat_minor": 2
}
